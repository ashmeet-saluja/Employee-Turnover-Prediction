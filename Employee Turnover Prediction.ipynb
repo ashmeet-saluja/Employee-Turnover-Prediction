{
 "cells": [
  {
   "cell_type": "code",
   "execution_count": 1,
   "id": "5685945f",
   "metadata": {},
   "outputs": [
    {
     "name": "stdout",
     "output_type": "stream",
     "text": [
      "Accuracy Score: 0.8390022675736961\n",
      "Classification Report:\n",
      "               precision    recall  f1-score   support\n",
      "\n",
      "           0       0.87      0.95      0.91       380\n",
      "           1       0.31      0.13      0.18        61\n",
      "\n",
      "    accuracy                           0.84       441\n",
      "   macro avg       0.59      0.54      0.55       441\n",
      "weighted avg       0.79      0.84      0.81       441\n",
      "\n",
      "\n",
      "Feature Importance:\n",
      "            feature  importance\n",
      "1    MonthlyIncome    0.386662\n",
      "0              Age    0.254416\n",
      "2   YearsAtCompany    0.186443\n",
      "3  JobSatisfaction    0.088928\n",
      "4         OverTime    0.083551\n"
     ]
    }
   ],
   "source": [
    "# Import libraries\n",
    "import pandas as pd\n",
    "from sklearn.model_selection import train_test_split\n",
    "from sklearn.ensemble import RandomForestClassifier\n",
    "from sklearn.metrics import classification_report, accuracy_score\n",
    "\n",
    "# Load dataset (assuming CSV format)\n",
    "# Replace 'employee_turnover.csv' with your dataset path\n",
    "df = pd.read_csv('HR-Employee-Attrition.csv')\n",
    "\n",
    "# Data Preprocessing\n",
    "df['OverTime'] = df['OverTime'].map({'Yes': 1, 'No': 0})  # Convert categorical to numerical\n",
    "df['Attrition'] = df['Attrition'].map({'Yes': 1, 'No': 0})  # Target variable\n",
    "\n",
    "# Feature selection\n",
    "features = ['Age', 'MonthlyIncome', 'YearsAtCompany', 'JobSatisfaction', 'OverTime']\n",
    "X = df[features]\n",
    "y = df['Attrition']\n",
    "\n",
    "# Train-test split\n",
    "X_train, X_test, y_train, y_test = train_test_split(X, y, test_size=0.3, random_state=42)\n",
    "\n",
    "# Model training using RandomForest\n",
    "model = RandomForestClassifier(n_estimators=100, random_state=42)\n",
    "model.fit(X_train, y_train)\n",
    "\n",
    "# Predictions\n",
    "y_pred = model.predict(X_test)\n",
    "\n",
    "# Evaluation\n",
    "print(\"Accuracy Score:\", accuracy_score(y_test, y_pred))\n",
    "print(\"Classification Report:\\n\", classification_report(y_test, y_pred))\n",
    "\n",
    "# Feature importance\n",
    "importances = model.feature_importances_\n",
    "feature_importance_df = pd.DataFrame({'feature': features, 'importance': importances}).sort_values(by='importance', ascending=False)\n",
    "print(\"\\nFeature Importance:\\n\", feature_importance_df)\n"
   ]
  },
  {
   "cell_type": "code",
   "execution_count": null,
   "id": "2f001d91",
   "metadata": {},
   "outputs": [],
   "source": []
  }
 ],
 "metadata": {
  "kernelspec": {
   "display_name": "Python 3 (ipykernel)",
   "language": "python",
   "name": "python3"
  },
  "language_info": {
   "codemirror_mode": {
    "name": "ipython",
    "version": 3
   },
   "file_extension": ".py",
   "mimetype": "text/x-python",
   "name": "python",
   "nbconvert_exporter": "python",
   "pygments_lexer": "ipython3",
   "version": "3.11.5"
  }
 },
 "nbformat": 4,
 "nbformat_minor": 5
}
